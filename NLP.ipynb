{
 "cells": [
  {
   "cell_type": "code",
   "execution_count": 1,
   "id": "dbbb0854",
   "metadata": {},
   "outputs": [],
   "source": [
    "import nltk     # Natural language toolkit"
   ]
  },
  {
   "cell_type": "code",
   "execution_count": 2,
   "id": "80ee3645",
   "metadata": {},
   "outputs": [
    {
     "name": "stdout",
     "output_type": "stream",
     "text": [
      "showing info https://raw.githubusercontent.com/nltk/nltk_data/gh-pages/index.xml\n"
     ]
    },
    {
     "data": {
      "text/plain": [
       "True"
      ]
     },
     "execution_count": 2,
     "metadata": {},
     "output_type": "execute_result"
    }
   ],
   "source": [
    "nltk.download()"
   ]
  },
  {
   "cell_type": "code",
   "execution_count": 3,
   "id": "aad329f2",
   "metadata": {},
   "outputs": [],
   "source": [
    "paragraph=\"He is a good boy. She is a good girl. boy and girl are good.\""
   ]
  },
  {
   "cell_type": "markdown",
   "id": "b1b921fa",
   "metadata": {},
   "source": [
    "# Tokenization"
   ]
  },
  {
   "cell_type": "markdown",
   "id": "4bfa9807",
   "metadata": {},
   "source": [
    "## Sentence Tokenization"
   ]
  },
  {
   "cell_type": "code",
   "execution_count": 24,
   "id": "4e75e0c4",
   "metadata": {},
   "outputs": [
    {
     "data": {
      "text/plain": [
       "['He is a good boy.', 'She is a good girl.', 'boy and girl are good.']"
      ]
     },
     "execution_count": 24,
     "metadata": {},
     "output_type": "execute_result"
    }
   ],
   "source": [
    "sentences=nltk.sent_tokenize(paragraph)      #sent_ = sentence\n",
    "sentences"
   ]
  },
  {
   "cell_type": "code",
   "execution_count": 25,
   "id": "ee0eb701",
   "metadata": {},
   "outputs": [
    {
     "data": {
      "text/plain": [
       "['He',\n",
       " 'is',\n",
       " 'a',\n",
       " 'good',\n",
       " 'boy',\n",
       " '.',\n",
       " 'She',\n",
       " 'is',\n",
       " 'a',\n",
       " 'good',\n",
       " 'girl',\n",
       " '.',\n",
       " 'boy',\n",
       " 'and',\n",
       " 'girl',\n",
       " 'are',\n",
       " 'good',\n",
       " '.']"
      ]
     },
     "execution_count": 25,
     "metadata": {},
     "output_type": "execute_result"
    }
   ],
   "source": [
    "words=nltk.word_tokenize(paragraph)\n",
    "words"
   ]
  },
  {
   "cell_type": "markdown",
   "id": "01cef514",
   "metadata": {},
   "source": [
    "# Text cleaning"
   ]
  },
  {
   "cell_type": "markdown",
   "id": "cd741b40",
   "metadata": {},
   "source": [
    "## Remove punctuation"
   ]
  },
  {
   "cell_type": "code",
   "execution_count": 33,
   "id": "ab402818",
   "metadata": {},
   "outputs": [
    {
     "name": "stdout",
     "output_type": "stream",
     "text": [
      "['He is a good boy ', 'She is a good girl ', 'boy and girl are good ']\n"
     ]
    }
   ],
   "source": [
    "import re      # re= regular expression\n",
    "\n",
    "corpus=[]\n",
    "for i in range(len(sentences)):\n",
    "    a=re.sub('[^a-zA-Z]',\" \",sentences[i])\n",
    "    corpus.append(a)\n",
    "print(corpus)\n"
   ]
  },
  {
   "cell_type": "markdown",
   "id": "4d36bdc3",
   "metadata": {},
   "source": [
    "## List of stop words in english"
   ]
  },
  {
   "cell_type": "code",
   "execution_count": 7,
   "id": "edc188ef",
   "metadata": {},
   "outputs": [
    {
     "data": {
      "text/plain": [
       "['i',\n",
       " 'me',\n",
       " 'my',\n",
       " 'myself',\n",
       " 'we',\n",
       " 'our',\n",
       " 'ours',\n",
       " 'ourselves',\n",
       " 'you',\n",
       " \"you're\",\n",
       " \"you've\",\n",
       " \"you'll\",\n",
       " \"you'd\",\n",
       " 'your',\n",
       " 'yours',\n",
       " 'yourself',\n",
       " 'yourselves',\n",
       " 'he',\n",
       " 'him',\n",
       " 'his',\n",
       " 'himself',\n",
       " 'she',\n",
       " \"she's\",\n",
       " 'her',\n",
       " 'hers',\n",
       " 'herself',\n",
       " 'it',\n",
       " \"it's\",\n",
       " 'its',\n",
       " 'itself',\n",
       " 'they',\n",
       " 'them',\n",
       " 'their',\n",
       " 'theirs',\n",
       " 'themselves',\n",
       " 'what',\n",
       " 'which',\n",
       " 'who',\n",
       " 'whom',\n",
       " 'this',\n",
       " 'that',\n",
       " \"that'll\",\n",
       " 'these',\n",
       " 'those',\n",
       " 'am',\n",
       " 'is',\n",
       " 'are',\n",
       " 'was',\n",
       " 'were',\n",
       " 'be',\n",
       " 'been',\n",
       " 'being',\n",
       " 'have',\n",
       " 'has',\n",
       " 'had',\n",
       " 'having',\n",
       " 'do',\n",
       " 'does',\n",
       " 'did',\n",
       " 'doing',\n",
       " 'a',\n",
       " 'an',\n",
       " 'the',\n",
       " 'and',\n",
       " 'but',\n",
       " 'if',\n",
       " 'or',\n",
       " 'because',\n",
       " 'as',\n",
       " 'until',\n",
       " 'while',\n",
       " 'of',\n",
       " 'at',\n",
       " 'by',\n",
       " 'for',\n",
       " 'with',\n",
       " 'about',\n",
       " 'against',\n",
       " 'between',\n",
       " 'into',\n",
       " 'through',\n",
       " 'during',\n",
       " 'before',\n",
       " 'after',\n",
       " 'above',\n",
       " 'below',\n",
       " 'to',\n",
       " 'from',\n",
       " 'up',\n",
       " 'down',\n",
       " 'in',\n",
       " 'out',\n",
       " 'on',\n",
       " 'off',\n",
       " 'over',\n",
       " 'under',\n",
       " 'again',\n",
       " 'further',\n",
       " 'then',\n",
       " 'once',\n",
       " 'here',\n",
       " 'there',\n",
       " 'when',\n",
       " 'where',\n",
       " 'why',\n",
       " 'how',\n",
       " 'all',\n",
       " 'any',\n",
       " 'both',\n",
       " 'each',\n",
       " 'few',\n",
       " 'more',\n",
       " 'most',\n",
       " 'other',\n",
       " 'some',\n",
       " 'such',\n",
       " 'no',\n",
       " 'nor',\n",
       " 'not',\n",
       " 'only',\n",
       " 'own',\n",
       " 'same',\n",
       " 'so',\n",
       " 'than',\n",
       " 'too',\n",
       " 'very',\n",
       " 's',\n",
       " 't',\n",
       " 'can',\n",
       " 'will',\n",
       " 'just',\n",
       " 'don',\n",
       " \"don't\",\n",
       " 'should',\n",
       " \"should've\",\n",
       " 'now',\n",
       " 'd',\n",
       " 'll',\n",
       " 'm',\n",
       " 'o',\n",
       " 're',\n",
       " 've',\n",
       " 'y',\n",
       " 'ain',\n",
       " 'aren',\n",
       " \"aren't\",\n",
       " 'couldn',\n",
       " \"couldn't\",\n",
       " 'didn',\n",
       " \"didn't\",\n",
       " 'doesn',\n",
       " \"doesn't\",\n",
       " 'hadn',\n",
       " \"hadn't\",\n",
       " 'hasn',\n",
       " \"hasn't\",\n",
       " 'haven',\n",
       " \"haven't\",\n",
       " 'isn',\n",
       " \"isn't\",\n",
       " 'ma',\n",
       " 'mightn',\n",
       " \"mightn't\",\n",
       " 'mustn',\n",
       " \"mustn't\",\n",
       " 'needn',\n",
       " \"needn't\",\n",
       " 'shan',\n",
       " \"shan't\",\n",
       " 'shouldn',\n",
       " \"shouldn't\",\n",
       " 'wasn',\n",
       " \"wasn't\",\n",
       " 'weren',\n",
       " \"weren't\",\n",
       " 'won',\n",
       " \"won't\",\n",
       " 'wouldn',\n",
       " \"wouldn't\"]"
      ]
     },
     "execution_count": 7,
     "metadata": {},
     "output_type": "execute_result"
    }
   ],
   "source": [
    "from nltk.corpus import stopwords\n",
    "stopwords.words(\"english\")"
   ]
  },
  {
   "cell_type": "markdown",
   "id": "0bb24a2e",
   "metadata": {},
   "source": [
    "## Remove stopwords "
   ]
  },
  {
   "cell_type": "code",
   "execution_count": 35,
   "id": "ca1e0737",
   "metadata": {},
   "outputs": [
    {
     "name": "stdout",
     "output_type": "stream",
     "text": [
      "['good boy', 'good girl', 'boy girl good']\n"
     ]
    }
   ],
   "source": [
    "corpus=[]\n",
    "for i in range(len(sentences)):\n",
    "    b=re.sub('[^a-zA-Z]',\" \",sentences[i])    #re=regular expression\n",
    "    b=b.lower()   \n",
    "    b=b.split()\n",
    "    b=[word for word in b if not word in set(stopwords.words('english'))]\n",
    "    b=\" \".join(b)\n",
    "    corpus.append(b)\n",
    "    \n",
    "print(corpus)\n"
   ]
  },
  {
   "cell_type": "code",
   "execution_count": 40,
   "id": "6121c639",
   "metadata": {},
   "outputs": [
    {
     "name": "stdout",
     "output_type": "stream",
     "text": [
      "['good', 'boy']\n",
      "['good', 'girl']\n",
      "['boy', 'girl', 'good']\n"
     ]
    }
   ],
   "source": [
    "#practice\n",
    "corpus=[]\n",
    "for i in range(len(sentences)):\n",
    "    b=re.sub('[^a-zA-Z]',\" \",sentences[i])\n",
    "      \n",
    "    b=b.split()\n",
    "    \n",
    "    \n"
   ]
  },
  {
   "cell_type": "code",
   "execution_count": 51,
   "id": "1df6e6a2",
   "metadata": {},
   "outputs": [
    {
     "name": "stdout",
     "output_type": "stream",
     "text": [
      "good boy\n",
      "good girl\n",
      "boy girl good\n"
     ]
    }
   ],
   "source": [
    "#practice\n",
    "corpus=[]\n",
    "for i in range(len(sentences)):\n",
    "    b=re.sub('[^a-zA-Z]',\" \",sentences[i])\n",
    "    b=b.lower()\n",
    "    b=b.split()\n",
    "    b=[word for word in b if not word in set(stopwords.words('english'))]\n",
    "    b=\" \".join(b)\n",
    "    print(b)"
   ]
  },
  {
   "cell_type": "code",
   "execution_count": null,
   "id": "d8454487",
   "metadata": {},
   "outputs": [],
   "source": []
  },
  {
   "cell_type": "code",
   "execution_count": null,
   "id": "c52291c5",
   "metadata": {},
   "outputs": [],
   "source": []
  },
  {
   "cell_type": "markdown",
   "id": "20b9752b",
   "metadata": {},
   "source": [
    "## Stemming"
   ]
  },
  {
   "cell_type": "code",
   "execution_count": 52,
   "id": "1dfb3d1d",
   "metadata": {},
   "outputs": [
    {
     "data": {
      "text/plain": [
       "'innov'"
      ]
     },
     "execution_count": 52,
     "metadata": {},
     "output_type": "execute_result"
    }
   ],
   "source": [
    "from nltk.stem import PorterStemmer\n",
    "ps=PorterStemmer()\n",
    "ps.stem(\"innovation\")"
   ]
  },
  {
   "cell_type": "markdown",
   "id": "eaa8ba70",
   "metadata": {},
   "source": [
    "## Lemmatization"
   ]
  },
  {
   "cell_type": "code",
   "execution_count": 53,
   "id": "80ad8f38",
   "metadata": {},
   "outputs": [
    {
     "data": {
      "text/plain": [
       "'innovation'"
      ]
     },
     "execution_count": 53,
     "metadata": {},
     "output_type": "execute_result"
    }
   ],
   "source": [
    "from nltk.stem import WordNetLemmatizer\n",
    "wnl=WordNetLemmatizer()\n",
    "wnl.lemmatize(\"innovation\")"
   ]
  },
  {
   "cell_type": "markdown",
   "id": "7f9a52ce",
   "metadata": {},
   "source": [
    "## Text cleaning(Remove punctuation, Remove stopwords, Stemming/Lemmatization)"
   ]
  },
  {
   "cell_type": "code",
   "execution_count": 11,
   "id": "9c19389c",
   "metadata": {},
   "outputs": [
    {
     "name": "stdout",
     "output_type": "stream",
     "text": [
      "['good boy', 'good girl', 'boy girl good']\n"
     ]
    }
   ],
   "source": [
    "corpus=[]\n",
    "for i in range(len(sentences)):\n",
    "    rp=re.sub('[^a-zA-Z]',\" \",sentences[i])\n",
    "    rp=rp.lower()\n",
    "    rp=rp.split()\n",
    "    rp=[ps.stem(word) for word in rp if not word in set(stopwords.words('english'))]\n",
    "    rp=\" \".join(rp)\n",
    "    corpus.append(rp)\n",
    "    \n",
    "print(corpus)\n"
   ]
  },
  {
   "cell_type": "markdown",
   "id": "3018944a",
   "metadata": {},
   "source": [
    "# Vectorization"
   ]
  },
  {
   "cell_type": "markdown",
   "id": "cb749c7c",
   "metadata": {},
   "source": [
    "## count vectorize(bag of words)"
   ]
  },
  {
   "cell_type": "code",
   "execution_count": 12,
   "id": "1f55085d",
   "metadata": {},
   "outputs": [
    {
     "data": {
      "text/plain": [
       "array([[1, 0, 1],\n",
       "       [0, 1, 1],\n",
       "       [1, 1, 1]], dtype=int64)"
      ]
     },
     "execution_count": 12,
     "metadata": {},
     "output_type": "execute_result"
    }
   ],
   "source": [
    "from sklearn.feature_extraction.text import CountVectorizer\n",
    "cv=CountVectorizer()\n",
    "bow=cv.fit_transform(corpus).toarray()\n",
    "bow"
   ]
  },
  {
   "cell_type": "markdown",
   "id": "8e136e72",
   "metadata": {},
   "source": [
    "## TF-IDF vectorizer"
   ]
  },
  {
   "cell_type": "code",
   "execution_count": 16,
   "id": "3687a5a0",
   "metadata": {},
   "outputs": [
    {
     "data": {
      "text/plain": [
       "array([[0.78980693, 0.        , 0.61335554],\n",
       "       [0.        , 0.78980693, 0.61335554],\n",
       "       [0.61980538, 0.61980538, 0.48133417]])"
      ]
     },
     "execution_count": 16,
     "metadata": {},
     "output_type": "execute_result"
    }
   ],
   "source": [
    "from sklearn.feature_extraction.text import TfidfVectorizer\n",
    "tf=TfidfVectorizer()\n",
    "tfidf=tf.fit_transform(corpus).toarray()\n",
    "tfidf"
   ]
  },
  {
   "cell_type": "markdown",
   "id": "282e7fe0",
   "metadata": {},
   "source": [
    "## Parts of speech(pos) tagging"
   ]
  },
  {
   "cell_type": "code",
   "execution_count": 19,
   "id": "205b63f4",
   "metadata": {},
   "outputs": [
    {
     "data": {
      "text/plain": [
       "[('I', 'PRP'), ('love', 'VBP'), ('my', 'PRP$'), ('pets', 'NNS')]"
      ]
     },
     "execution_count": 19,
     "metadata": {},
     "output_type": "execute_result"
    }
   ],
   "source": [
    "text=\"I love my pets\"\n",
    "\n",
    "words=nltk.word_tokenize(text)\n",
    "\n",
    "nltk.pos_tag(words)"
   ]
  },
  {
   "cell_type": "code",
   "execution_count": 20,
   "id": "be1c65fb",
   "metadata": {},
   "outputs": [
    {
     "name": "stdout",
     "output_type": "stream",
     "text": [
      "VBP: verb, present tense, not 3rd person singular\n",
      "    predominate wrap resort sue twist spill cure lengthen brush terminate\n",
      "    appear tend stray glisten obtain comprise detest tease attract\n",
      "    emphasize mold postpone sever return wag ...\n"
     ]
    }
   ],
   "source": [
    "nltk.help.upenn_tagset('VBP')"
   ]
  },
  {
   "cell_type": "code",
   "execution_count": 21,
   "id": "fd4fa4c0",
   "metadata": {},
   "outputs": [
    {
     "name": "stdout",
     "output_type": "stream",
     "text": [
      "NNS: noun, common, plural\n",
      "    undergraduates scotches bric-a-brac products bodyguards facets coasts\n",
      "    divestitures storehouses designs clubs fragrances averages\n",
      "    subjectivists apprehensions muses factory-jobs ...\n"
     ]
    }
   ],
   "source": [
    "nltk.help.upenn_tagset('NNS')"
   ]
  },
  {
   "cell_type": "code",
   "execution_count": null,
   "id": "78c45ddd",
   "metadata": {},
   "outputs": [],
   "source": []
  }
 ],
 "metadata": {
  "kernelspec": {
   "display_name": "Python 3 (ipykernel)",
   "language": "python",
   "name": "python3"
  },
  "language_info": {
   "codemirror_mode": {
    "name": "ipython",
    "version": 3
   },
   "file_extension": ".py",
   "mimetype": "text/x-python",
   "name": "python",
   "nbconvert_exporter": "python",
   "pygments_lexer": "ipython3",
   "version": "3.9.13"
  }
 },
 "nbformat": 4,
 "nbformat_minor": 5
}
